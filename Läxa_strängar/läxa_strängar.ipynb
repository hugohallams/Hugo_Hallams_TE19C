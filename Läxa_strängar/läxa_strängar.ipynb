{
 "metadata": {
  "language_info": {
   "codemirror_mode": {
    "name": "ipython",
    "version": 3
   },
   "file_extension": ".py",
   "mimetype": "text/x-python",
   "name": "python",
   "nbconvert_exporter": "python",
   "pygments_lexer": "ipython3",
   "version": "3.8.3-final"
  },
  "orig_nbformat": 2,
  "kernelspec": {
   "name": "python3",
   "display_name": "Python 3"
  }
 },
 "nbformat": 4,
 "nbformat_minor": 2,
 "cells": [
  {
   "cell_type": "code",
   "execution_count": 3,
   "metadata": {},
   "outputs": [
    {
     "output_type": "stream",
     "name": "stdout",
     "text": [
      "Antal bokstäver i ditt namn är 0\n"
     ]
    }
   ],
   "source": [
    "#Uppgift 1\n",
    "\n",
    "förnamn = input(\"Vad är ditt förnamn?\")\n",
    "efternamn = input(\"Vad är dit efternamn\")\n",
    "namn = förnamn + efternamn\n",
    "\n",
    "print(f\"Antal bokstäver i ditt namn är {len(namn)}\")"
   ]
  },
  {
   "cell_type": "code",
   "execution_count": 6,
   "metadata": {},
   "outputs": [
    {
     "output_type": "stream",
     "name": "stdout",
     "text": [
      "Antal ord i meningen är: 15\n"
     ]
    }
   ],
   "source": [
    "#uppgift 2\n",
    "mening = \"En bild säger mer än tusen ord, en matematisk formel  säger mer än tusen bilder.\"\n",
    "mening = mening.split()\n",
    "print(f\"Antal ord i meningen är: {len(mening)}\")"
   ]
  },
  {
   "cell_type": "code",
   "execution_count": 20,
   "metadata": {},
   "outputs": [
    {
     "output_type": "stream",
     "name": "stdout",
     "text": [
      "Teckenföljden är inte ett plaindrom\n"
     ]
    }
   ],
   "source": [
    "#uppgift 3 a\n",
    "\n",
    "teckenföljd = input(\"Skriv ett följd av tecken utan mellanslag\")\n",
    "\n",
    "if teckenföljd[::-1] == teckenföljd:\n",
    "    print(\"Teckenföljden är ett palidrom\")\n",
    "\n",
    "else:\n",
    "    print(\"Teckenföljden är inte ett palidrom\")"
   ]
  },
  {
   "cell_type": "code",
   "execution_count": 9,
   "metadata": {},
   "outputs": [
    {
     "output_type": "stream",
     "name": "stdout",
     "text": [
      "Teckenföljden är ett palidrom\n"
     ]
    }
   ],
   "source": [
    "#Uppgift 3 b\n",
    "\n",
    "teckenföljd = input(\"Skriv en teckenföljd med mellanslag och skiljetecken\")\n",
    "\n",
    "teckenföljd = teckenföljd.replace(\" \",\"\")\n",
    "teckenföljd = teckenföljd.replace(\",\", \"\") \n",
    "teckenföljd = teckenföljd.replace(\".\", \"\")\n",
    "teckenföljd = teckenföljd.replace(\":\", \"\")\n",
    "\n",
    "if teckenföljd[::-1] == teckenföljd:\n",
    "    print(\"Teckenföljden är ett palidrom\")\n",
    "\n",
    "else:\n",
    "    print(\"Teckenföljden är inte ett palidrom\")"
   ]
  },
  {
   "cell_type": "code",
   "execution_count": 10,
   "metadata": {},
   "outputs": [
    {
     "output_type": "error",
     "ename": "TypeError",
     "evalue": "'builtin_function_or_method' object is not subscriptable",
     "traceback": [
      "\u001b[1;31m---------------------------------------------------------------------------\u001b[0m",
      "\u001b[1;31mTypeError\u001b[0m                                 Traceback (most recent call last)",
      "\u001b[1;32m<ipython-input-10-06100c628445>\u001b[0m in \u001b[0;36m<module>\u001b[1;34m\u001b[0m\n\u001b[0;32m      3\u001b[0m \u001b[0ms\u001b[0m \u001b[1;33m=\u001b[0m \u001b[1;34m\"abcdefghjiklmnopqrstuvwxuzåäö\"\u001b[0m\u001b[1;33m\u001b[0m\u001b[1;33m\u001b[0m\u001b[0m\n\u001b[0;32m      4\u001b[0m \u001b[1;33m\u001b[0m\u001b[0m\n\u001b[1;32m----> 5\u001b[1;33m \u001b[0mord\u001b[0m \u001b[1;33m=\u001b[0m \u001b[0mord\u001b[0m\u001b[1;33m.\u001b[0m\u001b[0mreplace\u001b[0m\u001b[1;33m[\u001b[0m\u001b[0ms\u001b[0m\u001b[1;33m]\u001b[0m\u001b[1;33m,\u001b[0m\u001b[1;33m[\u001b[0m\u001b[0ms\u001b[0m\u001b[1;33m+\u001b[0m\u001b[1;36m1\u001b[0m\u001b[1;33m]\u001b[0m\u001b[1;33m\u001b[0m\u001b[1;33m\u001b[0m\u001b[0m\n\u001b[0m",
      "\u001b[1;31mTypeError\u001b[0m: 'builtin_function_or_method' object is not subscriptable"
     ]
    }
   ],
   "source": [
    "#Uppgift 5 a\n",
    "ord = input(\"Skriv ett ord du vill kryptera\")\n",
    "s = \"abcdefghjiklmnopqrstuvwxuzåäö\"\n",
    "\n",
    "ord = ord.replace[\n"
   ]
  },
  {
   "cell_type": "code",
   "execution_count": 18,
   "metadata": {},
   "outputs": [
    {
     "output_type": "stream",
     "name": "stdout",
     "text": [
      "0\n"
     ]
    }
   ],
   "source": [
    "#uppgift 4\n",
    "\n",
    "mening = \"Do not worry about your difficulties in mathematics. I can assure you that mine are still greater\"\n",
    "vokaler = [\"a\", \"e\", \"j\", \"i\", \"o\", \"u\", \"y\", \"å\", \"ä\", \"ö\"]\n",
    "antalv = 0\n",
    "\n",
    "if mening == vokaler:\n",
    "    antalv +=1\n",
    "print(antalv)\n",
    "\n"
   ]
  },
  {
   "cell_type": "code",
   "execution_count": null,
   "metadata": {},
   "outputs": [],
   "source": []
  }
 ]
}