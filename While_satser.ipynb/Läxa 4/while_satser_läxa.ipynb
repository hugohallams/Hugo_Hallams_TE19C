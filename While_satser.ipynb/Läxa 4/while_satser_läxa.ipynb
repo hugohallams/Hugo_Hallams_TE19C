{
 "metadata": {
  "language_info": {
   "codemirror_mode": {
    "name": "ipython",
    "version": 3
   },
   "file_extension": ".py",
   "mimetype": "text/x-python",
   "name": "python",
   "nbconvert_exporter": "python",
   "pygments_lexer": "ipython3",
   "version": "3.8.3-final"
  },
  "orig_nbformat": 2,
  "kernelspec": {
   "name": "Python 3.8.3 64-bit ('base': conda)",
   "display_name": "Python 3.8.3 64-bit ('base': conda)",
   "metadata": {
    "interpreter": {
     "hash": "4bf9b82c0f55d9045402f700c4b25681c7d161e60ae3740548660adcde5acae1"
    }
   }
  }
 },
 "nbformat": 4,
 "nbformat_minor": 2,
 "cells": [
  {
   "cell_type": "code",
   "execution_count": 4,
   "metadata": {},
   "outputs": [
    {
     "output_type": "stream",
     "name": "stdout",
     "text": [
      "1+2+3+5...+98+99+100 = 5050\n"
     ]
    }
   ],
   "source": [
    "#uppgift 1\n",
    "\n",
    "n = 1\n",
    "summa = 0\n",
    "while n < 101:\n",
    "    summa = summa + n\n",
    "    n+=1\n",
    "print(f\"1+2+3+5...+98+99+100 = {summa}\")"
   ]
  },
  {
   "cell_type": "code",
   "execution_count": 6,
   "metadata": {},
   "outputs": [
    {
     "output_type": "stream",
     "name": "stdout",
     "text": [
      "1+3+5...+97+99 = 2500\n"
     ]
    }
   ],
   "source": [
    "#uppgift 2\n",
    "\n",
    "n = 1\n",
    "summa = 0\n",
    "while n < 100:\n",
    "    summa = summa + n\n",
    "    n+=2\n",
    "print(f\"1+3+5...+97+99 = {summa}\")\n"
   ]
  },
  {
   "cell_type": "code",
   "execution_count": null,
   "metadata": {},
   "outputs": [],
   "source": []
  },
  {
   "cell_type": "code",
   "execution_count": 4,
   "metadata": {
    "tags": []
   },
   "outputs": [
    {
     "output_type": "error",
     "ename": "SyntaxError",
     "evalue": "invalid syntax (<ipython-input-4-e660c01059cd>, line 12)",
     "traceback": [
      "\u001b[1;36m  File \u001b[1;32m\"<ipython-input-4-e660c01059cd>\"\u001b[1;36m, line \u001b[1;32m12\u001b[0m\n\u001b[1;33m    else tal > gissning:\u001b[0m\n\u001b[1;37m    ^\u001b[0m\n\u001b[1;31mSyntaxError\u001b[0m\u001b[1;31m:\u001b[0m invalid syntax\n"
     ]
    }
   ],
   "source": [
    "#uppgift 5\n",
    "\n",
    "import random as rnd\n",
    "tal=rnd.randint(1,100)\n",
    "\n",
    "gissning=int(input(\"Gissa ett tal mellan 0 till 100\"))\n",
    "\n",
    "while gissning == tal:\n",
    "    print(\"Rätt!\")\n",
    "\n",
    "while gissning > tal:\n",
    "    if tal < gissning:\n",
    "        print(\"Högre\")\n",
    "    \n",
    "while gissning < tal:\n",
    "    if tal > gissning:\n",
    "        print(\"Lägre\")\n",
    "\n",
    "    \n",
    "\n",
    "\n",
    "    \n",
    "\n",
    "\n",
    "    \n",
    "\n",
    "    \n",
    "   "
   ]
  },
  {
   "cell_type": "code",
   "execution_count": null,
   "metadata": {},
   "outputs": [],
   "source": []
  }
 ]
}