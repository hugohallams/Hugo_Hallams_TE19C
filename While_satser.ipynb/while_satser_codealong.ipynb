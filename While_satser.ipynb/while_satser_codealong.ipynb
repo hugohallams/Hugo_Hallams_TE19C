{
 "metadata": {
  "language_info": {
   "codemirror_mode": {
    "name": "ipython",
    "version": 3
   },
   "file_extension": ".py",
   "mimetype": "text/x-python",
   "name": "python",
   "nbconvert_exporter": "python",
   "pygments_lexer": "ipython3",
   "version": "3.8.3-final"
  },
  "orig_nbformat": 2,
  "kernelspec": {
   "name": "Python 3.8.3 64-bit ('hugo.hallams': virtualenv)",
   "display_name": "Python 3.8.3 64-bit ('hugo.hallams': virtualenv)",
   "metadata": {
    "interpreter": {
     "hash": "4bf9b82c0f55d9045402f700c4b25681c7d161e60ae3740548660adcde5acae1"
    }
   }
  }
 },
 "nbformat": 4,
 "nbformat_minor": 2,
 "cells": [
  {
   "cell_type": "code",
   "execution_count": 1,
   "metadata": {},
   "outputs": [
    {
     "output_type": "stream",
     "name": "stdout",
     "text": [
      "0 1 2 3 4 5 6 7 8 9 "
     ]
    }
   ],
   "source": [
    "n = 0\n",
    "\n",
    "while n < 10:\n",
    "    print(n, end = \" \")\n",
    "    n += 1\n",
    "\n"
   ]
  },
  {
   "cell_type": "code",
   "execution_count": 6,
   "metadata": {},
   "outputs": [
    {
     "output_type": "stream",
     "name": "stdout",
     "text": [
      "625\n"
     ]
    }
   ],
   "source": [
    "n = 1\n",
    "summa = 0\n",
    "while n < 50:\n",
    "    summa = summa + n\n",
    "    n+=2\n",
    "print(f\"{summa}\")\n",
    "\n"
   ]
  },
  {
   "cell_type": "code",
   "execution_count": 8,
   "metadata": {},
   "outputs": [
    {
     "output_type": "error",
     "ename": "SyntaxError",
     "evalue": "cannot assign to operator (<ipython-input-8-d48d7841c964>, line 10)",
     "traceback": [
      "\u001b[1;36m  File \u001b[1;32m\"<ipython-input-8-d48d7841c964>\"\u001b[1;36m, line \u001b[1;32m10\u001b[0m\n\u001b[1;33m    n * 1,5 = n\u001b[0m\n\u001b[1;37m    ^\u001b[0m\n\u001b[1;31mSyntaxError\u001b[0m\u001b[1;31m:\u001b[0m cannot assign to operator\n"
     ]
    }
   ],
   "source": [
    "'''\n",
    "1L mjölk har 1500000 bakterier\n",
    "I rumstep ökar antalet bakterier med 50% varje timme\n",
    "Mjölk blir sur när bakterierna överstiger 10000000 st\n",
    "Hur många timmar tills mjälken blir sur?\n",
    "'''\n",
    "\n",
    "n = 1500000\n",
    "while n < 10000000:\n",
    "    n * 1,5 = n\n",
    "  \n",
    "   \n",
    "\n",
    "\n"
   ]
  },
  {
   "cell_type": "code",
   "execution_count": null,
   "metadata": {},
   "outputs": [],
   "source": []
  }
 ]
}