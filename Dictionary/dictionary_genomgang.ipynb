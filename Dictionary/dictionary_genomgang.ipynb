{
 "metadata": {
  "language_info": {
   "codemirror_mode": {
    "name": "ipython",
    "version": 3
   },
   "file_extension": ".py",
   "mimetype": "text/x-python",
   "name": "python",
   "nbconvert_exporter": "python",
   "pygments_lexer": "ipython3",
   "version": "3.8.3-final"
  },
  "orig_nbformat": 2,
  "kernelspec": {
   "name": "python3",
   "display_name": "Python 3.8.3 64-bit ('hugo.hallams': virtualenv)",
   "metadata": {
    "interpreter": {
     "hash": "4bf9b82c0f55d9045402f700c4b25681c7d161e60ae3740548660adcde5acae1"
    }
   }
  }
 },
 "nbformat": 4,
 "nbformat_minor": 2,
 "cells": [
  {
   "cell_type": "code",
   "execution_count": null,
   "metadata": {},
   "outputs": [],
   "source": [
    "#dictionary\n",
    "-key:value par\n",
    "-metafor: vanlig ordlisalexikon\n",
    "\n"
   ]
  },
  {
   "cell_type": "code",
   "execution_count": 5,
   "metadata": {},
   "outputs": [
    {
     "output_type": "stream",
     "name": "stdout",
     "text": [
      "NTI är Hugo\n"
     ]
    }
   ],
   "source": [
    "person = dict(\n",
    "    namn = \"Hugo\",\n",
    "    ålder = \"17\",\n",
    "    yrke = \"student\",\n",
    "    arbetsplats = \"NTI\"\n",
    ")\n",
    "\n",
    "print(f\"{person['arbetsplats']} är {person['namn']}\")"
   ]
  },
  {
   "cell_type": "code",
   "execution_count": 16,
   "metadata": {},
   "outputs": [
    {
     "output_type": "stream",
     "name": "stdout",
     "text": [
      "Ord vi behöver lära oss: \ntilldela ge ett värde till en variabel\ndatastruktur strukturering av data\nsträng sekvens av tecken\ndictionary datastruktur för att spara data i key:vaulue par\ntilldela ge ett värde till en variabel\ndatastruktur strukturering av data\nsträng sekvens av tecken\ndictionary datastruktur för att spara data i key:vaulue par\n"
     ]
    }
   ],
   "source": [
    "#sytax med {}\n",
    "\n",
    "glosor = {\n",
    "    \"tilldela\":\"ge ett värde till en variabel\",\n",
    "    \"datastruktur\": \"strukturering av data\",\n",
    "    \"sträng\":\"sekvens av tecken\"\n",
    "}\n",
    "\n",
    "#lägga till ett element\n",
    "glosor[\"dictionary\"] = \"datastruktur för att spara data i key:vaulue par\"\n",
    "\n",
    "\"\"\"print(glosor[\"tilldela\"])\n",
    "print(glosor[\"sträng\"])\n",
    "print(glosor[\"dictionary\"])\"\"\"\n",
    "\n",
    "print (\"Ord vi behöver lära oss: \")\n",
    "for key in glosor:\n",
    "    print(f\"{key} {glosor[key]}\")\n",
    "\n",
    "    #ett annat sätt\n",
    "for key, value in glosor.items():\n",
    "    print(f\"{key} {value}\")"
   ]
  },
  {
   "cell_type": "code",
   "execution_count": 22,
   "metadata": {},
   "outputs": [
    {
     "output_type": "stream",
     "name": "stdout",
     "text": [
      "{'1': 10, '2': 5, '3': 3, '4': 6, '5': 4, '6': 10, '7': 8, '8': 6, '9': 7}\n"
     ]
    }
   ],
   "source": [
    "#for sats för att generera key-value par\n",
    "\n",
    "import random as rnd\n",
    "\n",
    "siffror = {}\n",
    "\n",
    "for i in range(1,10):\n",
    "    slumptal = rnd.randint(1,10)\n",
    "    siffror[f\"{i}\"] = slumptal\n",
    "\n",
    "print(siffror)\n",
    "\n",
    "\n"
   ]
  },
  {
   "cell_type": "code",
   "execution_count": null,
   "metadata": {},
   "outputs": [],
   "source": []
  }
 ]
}