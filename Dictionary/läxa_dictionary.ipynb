{
 "metadata": {
  "language_info": {
   "codemirror_mode": {
    "name": "ipython",
    "version": 3
   },
   "file_extension": ".py",
   "mimetype": "text/x-python",
   "name": "python",
   "nbconvert_exporter": "python",
   "pygments_lexer": "ipython3",
   "version": "3.8.3-final"
  },
  "orig_nbformat": 2,
  "kernelspec": {
   "name": "python3",
   "display_name": "Python 3.8.3 64-bit (conda)",
   "metadata": {
    "interpreter": {
     "hash": "4bf9b82c0f55d9045402f700c4b25681c7d161e60ae3740548660adcde5acae1"
    }
   }
  }
 },
 "nbformat": 4,
 "nbformat_minor": 2,
 "cells": [
  {
   "cell_type": "code",
   "execution_count": 5,
   "metadata": {},
   "outputs": [
    {
     "output_type": "stream",
     "name": "stdout",
     "text": [
      "Idrott\nIdrott\nIdrott\nIdrott\nIdrott\nIdrott\nIdrott\nIdrott\n"
     ]
    }
   ],
   "source": [
    "#1 \n",
    "kurser = {\n",
    "    \"Matematik4c\": 100,\n",
    "    \"Svenska2\": 100,\n",
    "    \"Engelska6\": 100,\n",
    "    \"Fysik2\": 150,\n",
    "    \"DaoDac\": 100,\n",
    "    \"Programmering1\": 100,\n",
    "    \"Webbutveckling1\": 100,\n",
    "    \"Idrott\": 150,\n",
    "}\n",
    "\n",
    "for key in kurser:\n",
    "    print(value)"
   ]
  },
  {
   "cell_type": "code",
   "execution_count": null,
   "metadata": {},
   "outputs": [],
   "source": []
  }
 ]
}