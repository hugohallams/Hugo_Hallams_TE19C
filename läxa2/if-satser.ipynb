{
 "metadata": {
  "language_info": {
   "codemirror_mode": {
    "name": "ipython",
    "version": 3
   },
   "file_extension": ".py",
   "mimetype": "text/x-python",
   "name": "python",
   "nbconvert_exporter": "python",
   "pygments_lexer": "ipython3",
   "version": "3.8.3-final"
  },
  "orig_nbformat": 2,
  "kernelspec": {
   "name": "python_defaultSpec_1600892660317",
   "display_name": "Python 3.8.3 64-bit ('base': conda)"
  }
 },
 "nbformat": 4,
 "nbformat_minor": 2,
 "cells": [
  {
   "cell_type": "code",
   "execution_count": 18,
   "metadata": {
    "tags": []
   },
   "outputs": [
    {
     "output_type": "stream",
     "name": "stdout",
     "text": "Talet är positvt\nTalet är noll\n"
    }
   ],
   "source": [
    "#uppgift 1\n",
    "\n",
    "x = float(input(\"Skriv ett tal\"))\n",
    "\n",
    "if x > 0: print(\"Talet är positvt\")\n",
    "\n",
    "if x < -0: print(\"Talet är negativt\")\n",
    "\n",
    "else: print(\"Talet är noll\")\n"
   ]
  },
  {
   "cell_type": "code",
   "execution_count": 46,
   "metadata": {
    "tags": []
   },
   "outputs": [
    {
     "output_type": "stream",
     "name": "stdout",
     "text": "arean är 28.26 och omkretsen är 18.84\n"
    }
   ],
   "source": [
    "#uppgift 5\n",
    "\n",
    "r = float(input(\"Skriv en radie\"))\n",
    "\n",
    "a = 3.14 * r**2\n",
    "\n",
    "o = 3.14 * 2 * r\n",
    "\n",
    "if r > 0: print(f\"arean är {a} och omkretsen är {o}\") \n",
    "\n",
    "elif r < 1: print(\"Skriv ett positivt tal\")\n",
    "\n"
   ]
  },
  {
   "cell_type": "code",
   "execution_count": 47,
   "metadata": {
    "tags": []
   },
   "outputs": [],
   "source": [
    "#uppgift 3\n",
    "\n",
    "tal1 = float(input(\"Skriv ett tal\"))\n",
    "\n",
    "tal2 = float(input(\"Skriv ett till tal\"))\n",
    "\n",
    "if tal1 > tal2: print(\"Det första talet är störst\")\n",
    "\n",
    "if tal1 < tal2: print(\"Det andra talet är störst\")"
   ]
  },
  {
   "cell_type": "code",
   "execution_count": 58,
   "metadata": {
    "tags": []
   },
   "outputs": [
    {
     "output_type": "stream",
     "name": "stdout",
     "text": "Bagaget är godkänt\n"
    }
   ],
   "source": [
    "#uppgift 8 \n",
    "\n",
    "\n",
    "v = float(input(\"Hur mycket väger bagaget i kg\"))\n",
    "\n",
    "l = float(input(\"Vad är bagagets längd i cm\"))\n",
    "\n",
    "b = float(input(\"Vad är bagagets bredd i cm\"))\n",
    "\n",
    "h = float(input(\"Vad är bagagets höjd i cm\"))\n",
    "\n",
    "if v > 8: print(\"Bagaget är för tungt\")\n",
    "\n",
    "if l > 55: print(\"Bagaget är för långt\")\n",
    "\n",
    "if b > 40: print(\"Bagaget är för brett\")\n",
    "\n",
    "if h > 23: print(\"Bagaget är för högt\")\n",
    "\n",
    "else: print(\"Bagaget är godkänt\")"
   ]
  },
  {
   "cell_type": "code",
   "execution_count": null,
   "metadata": {},
   "outputs": [],
   "source": []
  }
 ]
}