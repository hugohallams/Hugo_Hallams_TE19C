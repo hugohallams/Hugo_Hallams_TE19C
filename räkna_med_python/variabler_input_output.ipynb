{
 "metadata": {
  "language_info": {
   "codemirror_mode": {
    "name": "ipython",
    "version": 3
   },
   "file_extension": ".py",
   "mimetype": "text/x-python",
   "name": "python",
   "nbconvert_exporter": "python",
   "pygments_lexer": "ipython3",
   "version": "3.8.3-final"
  },
  "orig_nbformat": 2,
  "kernelspec": {
   "name": "python_defaultSpec_1599652510574",
   "display_name": "Python 3.8.3 64-bit ('base': conda)"
  }
 },
 "nbformat": 4,
 "nbformat_minor": 2,
 "cells": [
  {
   "cell_type": "markdown",
   "metadata": {},
   "source": [
    "NOTEBOOK\n"
   ]
  },
  {
   "cell_type": "code",
   "execution_count": 11,
   "metadata": {
    "tags": []
   },
   "outputs": [
    {
     "output_type": "stream",
     "name": "stdout",
     "text": "Det är -243.0 grader Celsius\n"
    }
   ],
   "source": [
    "K = float(input(\"Ange antal kelvin: \"))\n",
    "\n",
    "C = K - 273\n",
    "\n",
    "print(f\"Det är {C} grader Celsius\")"
   ]
  },
  {
   "cell_type": "code",
   "execution_count": 13,
   "metadata": {
    "tags": []
   },
   "outputs": [
    {
     "output_type": "stream",
     "name": "stdout",
     "text": "Det är 283.0 grader kelvin\n"
    }
   ],
   "source": [
    "C = float(input(\"Ange antal celsius\"))\n",
    "\n",
    "K = C + 273\n",
    "\n",
    "print(f\"Det är {K} grader kelvin\")"
   ]
  },
  {
   "cell_type": "code",
   "execution_count": 1,
   "metadata": {
    "tags": []
   },
   "outputs": [
    {
     "output_type": "stream",
     "name": "stdout",
     "text": "Det kostar 900.0 kronor!\n"
    }
   ],
   "source": [
    "e = float(input(\" Hur många engångsbiljetter köper du i månaden: \"))\n",
    "\n",
    "k = e * 30\n",
    "\n",
    "print(f\"Det kostar {k} kronor!\")"
   ]
  },
  {
   "cell_type": "code",
   "execution_count": null,
   "metadata": {},
   "outputs": [],
   "source": []
  }
 ]
}