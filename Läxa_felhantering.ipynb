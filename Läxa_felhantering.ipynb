{
 "metadata": {
  "language_info": {
   "codemirror_mode": {
    "name": "ipython",
    "version": 3
   },
   "file_extension": ".py",
   "mimetype": "text/x-python",
   "name": "python",
   "nbconvert_exporter": "python",
   "pygments_lexer": "ipython3",
   "version": "3.8.3-final"
  },
  "orig_nbformat": 2,
  "kernelspec": {
   "name": "python3",
   "display_name": "Python 3",
   "language": "python"
  }
 },
 "nbformat": 4,
 "nbformat_minor": 2,
 "cells": [
  {
   "cell_type": "code",
   "execution_count": 5,
   "metadata": {},
   "outputs": [
    {
     "output_type": "stream",
     "name": "stdout",
     "text": [
      "0.7071067811865476\n"
     ]
    }
   ],
   "source": [
    "#1\n",
    "\n",
    "import numpy as np\n",
    "\n",
    "def distance(x,y):\n",
    "    return np.sqrt(x**2+y**2)\n",
    "\n",
    "print(distance(0.5,0.5))"
   ]
  },
  {
   "cell_type": "code",
   "execution_count": 8,
   "metadata": {},
   "outputs": [
    {
     "output_type": "stream",
     "name": "stdout",
     "text": [
      "100 är inte fyrsiffrigt\n231 är inte fyrsiffrigt\n10000 är fyrsiffrigt\n10001 är fyrsiffrigt\n-1111 är fyrsiffrigt\n102313 är fyrsiffrigt\n"
     ]
    }
   ],
   "source": [
    "#2\n",
    "\n",
    "def ar_fyrsiffrigt(tal):\n",
    "    if tal//1000:\n",
    "        return True\n",
    "    else:\n",
    "        return False\n",
    "\n",
    "# testprogram\n",
    "testtal = [100, 231, 10000, 10001, -1111, 102313]\n",
    "\n",
    "for t in testtal:\n",
    "    if ar_fyrsiffrigt(t):\n",
    "        print(f\"{t} är fyrsiffrigt\")\n",
    "    else:\n",
    "        print(f\"{t} är inte fyrsiffrigt\")"
   ]
  },
  {
   "cell_type": "code",
   "execution_count": 2,
   "metadata": {},
   "outputs": [
    {
     "output_type": "stream",
     "name": "stdout",
     "text": [
      "Du behöver borde köpa en månadsbiljet\n"
     ]
    }
   ],
   "source": [
    "# 3\n",
    "månadskostnad = 150\n",
    "\n",
    "\n",
    "while True:\n",
    "    try:\n",
    "        antal_åk = int(input(\"Hur många gånger vill du åka spårvagn denna månaden?\"))\n",
    "        assert antal_åk > 0 and antal_åk < 200, \"Jag tror inte att du åker så mycket. Det är nästan            omöjligt.\"\n",
    "        break\n",
    "    except AssertionError as message:\n",
    "        print(message)\n",
    "    except:\n",
    "        print(\"Du måste skriva siffror\")\n",
    "\n",
    "engångskostnad = antal_åk * 29\n",
    "\n",
    "if engångskostnad > månadskostnad:\n",
    "    print(\"Du behöver borde köpa en månadsbiljet\")\n",
    "else:\n",
    "    print(\"Du behöver inte köpa en månadsbiljet\")\n",
    "    \n"
   ]
  },
  {
   "cell_type": "code",
   "execution_count": null,
   "metadata": {},
   "outputs": [],
   "source": []
  }
 ]
}